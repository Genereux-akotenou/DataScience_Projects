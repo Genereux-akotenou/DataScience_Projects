{
 "cells": [
  {
   "cell_type": "markdown",
   "metadata": {},
   "source": [
    "##### Flower project / Classification problem"
   ]
  },
  {
   "cell_type": "markdown",
   "metadata": {},
   "source": [
    "<img src=\"./favicon.jpg\" alt=\"flower image\" />"
   ]
  },
  {
   "cell_type": "markdown",
   "metadata": {},
   "source": [
    "###### Environment initialization"
   ]
  },
  {
   "cell_type": "code",
   "execution_count": 24,
   "metadata": {},
   "outputs": [
    {
     "name": "stderr",
     "output_type": "stream",
     "text": [
      "UsageError: Line magic function `%tensorflow_version` not found.\n"
     ]
    }
   ],
   "source": [
    "%tensorflow_version 2.x"
   ]
  },
  {
   "cell_type": "code",
   "execution_count": 25,
   "metadata": {},
   "outputs": [],
   "source": [
    "from __future__ import absolute_import, division, print_function, unicode_literals\n",
    "import tensorflow as tf\n",
    "import pandas as pd\n",
    "\n",
    "from IPython.display import clear_output\n"
   ]
  },
  {
   "cell_type": "markdown",
   "metadata": {},
   "source": [
    "###### Dataset loading"
   ]
  },
  {
   "cell_type": "code",
   "execution_count": 26,
   "metadata": {},
   "outputs": [],
   "source": [
    "#train_path = tf.keras.utils.get_file(\"iris_training.csv\", \"https://storage.googleapi.com/download.tensorflow.org/data/iris_training.csv\")\n",
    "#eval_path  = tf.keras.utils.get_file(\"iris_test.csv\", \"https://storage.googleapi.com/download.tensorflow.org/data/iris_test.csv\")\n",
    "\n",
    "CSV_COLUMN_NAME = ['SepalLength', 'SepalWidth', 'PetalLength', 'PetalWidth', 'Species']\n",
    "SPECIES = ['Setosa', 'Versicolor', 'Virginica']\n",
    "\n",
    "df_train = pd.read_csv('iris_training.csv', names=CSV_COLUMN_NAME, header=0)\n",
    "df_eval  = pd.read_csv('iris_test.csv', names=CSV_COLUMN_NAME, header=0)\n"
   ]
  },
  {
   "cell_type": "code",
   "execution_count": 27,
   "metadata": {},
   "outputs": [
    {
     "data": {
      "text/html": [
       "<div>\n",
       "<style scoped>\n",
       "    .dataframe tbody tr th:only-of-type {\n",
       "        vertical-align: middle;\n",
       "    }\n",
       "\n",
       "    .dataframe tbody tr th {\n",
       "        vertical-align: top;\n",
       "    }\n",
       "\n",
       "    .dataframe thead th {\n",
       "        text-align: right;\n",
       "    }\n",
       "</style>\n",
       "<table border=\"1\" class=\"dataframe\">\n",
       "  <thead>\n",
       "    <tr style=\"text-align: right;\">\n",
       "      <th></th>\n",
       "      <th>SepalLength</th>\n",
       "      <th>SepalWidth</th>\n",
       "      <th>PetalLength</th>\n",
       "      <th>PetalWidth</th>\n",
       "      <th>Species</th>\n",
       "    </tr>\n",
       "  </thead>\n",
       "  <tbody>\n",
       "    <tr>\n",
       "      <th>0</th>\n",
       "      <td>6.4</td>\n",
       "      <td>2.8</td>\n",
       "      <td>5.6</td>\n",
       "      <td>2.2</td>\n",
       "      <td>2</td>\n",
       "    </tr>\n",
       "    <tr>\n",
       "      <th>1</th>\n",
       "      <td>5.0</td>\n",
       "      <td>2.3</td>\n",
       "      <td>3.3</td>\n",
       "      <td>1.0</td>\n",
       "      <td>1</td>\n",
       "    </tr>\n",
       "    <tr>\n",
       "      <th>2</th>\n",
       "      <td>4.9</td>\n",
       "      <td>2.5</td>\n",
       "      <td>4.5</td>\n",
       "      <td>1.7</td>\n",
       "      <td>2</td>\n",
       "    </tr>\n",
       "    <tr>\n",
       "      <th>3</th>\n",
       "      <td>4.9</td>\n",
       "      <td>3.1</td>\n",
       "      <td>1.5</td>\n",
       "      <td>0.1</td>\n",
       "      <td>0</td>\n",
       "    </tr>\n",
       "    <tr>\n",
       "      <th>4</th>\n",
       "      <td>5.7</td>\n",
       "      <td>3.8</td>\n",
       "      <td>1.7</td>\n",
       "      <td>0.3</td>\n",
       "      <td>0</td>\n",
       "    </tr>\n",
       "  </tbody>\n",
       "</table>\n",
       "</div>"
      ],
      "text/plain": [
       "   SepalLength  SepalWidth  PetalLength  PetalWidth  Species\n",
       "0          6.4         2.8          5.6         2.2        2\n",
       "1          5.0         2.3          3.3         1.0        1\n",
       "2          4.9         2.5          4.5         1.7        2\n",
       "3          4.9         3.1          1.5         0.1        0\n",
       "4          5.7         3.8          1.7         0.3        0"
      ]
     },
     "execution_count": 27,
     "metadata": {},
     "output_type": "execute_result"
    }
   ],
   "source": [
    "df_train.head(5)"
   ]
  },
  {
   "cell_type": "code",
   "execution_count": 28,
   "metadata": {},
   "outputs": [
    {
     "data": {
      "text/html": [
       "<div>\n",
       "<style scoped>\n",
       "    .dataframe tbody tr th:only-of-type {\n",
       "        vertical-align: middle;\n",
       "    }\n",
       "\n",
       "    .dataframe tbody tr th {\n",
       "        vertical-align: top;\n",
       "    }\n",
       "\n",
       "    .dataframe thead th {\n",
       "        text-align: right;\n",
       "    }\n",
       "</style>\n",
       "<table border=\"1\" class=\"dataframe\">\n",
       "  <thead>\n",
       "    <tr style=\"text-align: right;\">\n",
       "      <th></th>\n",
       "      <th>SepalLength</th>\n",
       "      <th>SepalWidth</th>\n",
       "      <th>PetalLength</th>\n",
       "      <th>PetalWidth</th>\n",
       "      <th>Species</th>\n",
       "    </tr>\n",
       "  </thead>\n",
       "  <tbody>\n",
       "    <tr>\n",
       "      <th>0</th>\n",
       "      <td>5.9</td>\n",
       "      <td>3.0</td>\n",
       "      <td>4.2</td>\n",
       "      <td>1.5</td>\n",
       "      <td>1</td>\n",
       "    </tr>\n",
       "    <tr>\n",
       "      <th>1</th>\n",
       "      <td>6.9</td>\n",
       "      <td>3.1</td>\n",
       "      <td>5.4</td>\n",
       "      <td>2.1</td>\n",
       "      <td>2</td>\n",
       "    </tr>\n",
       "    <tr>\n",
       "      <th>2</th>\n",
       "      <td>5.1</td>\n",
       "      <td>3.3</td>\n",
       "      <td>1.7</td>\n",
       "      <td>0.5</td>\n",
       "      <td>0</td>\n",
       "    </tr>\n",
       "    <tr>\n",
       "      <th>3</th>\n",
       "      <td>6.0</td>\n",
       "      <td>3.4</td>\n",
       "      <td>4.5</td>\n",
       "      <td>1.6</td>\n",
       "      <td>1</td>\n",
       "    </tr>\n",
       "    <tr>\n",
       "      <th>4</th>\n",
       "      <td>5.5</td>\n",
       "      <td>2.5</td>\n",
       "      <td>4.0</td>\n",
       "      <td>1.3</td>\n",
       "      <td>1</td>\n",
       "    </tr>\n",
       "  </tbody>\n",
       "</table>\n",
       "</div>"
      ],
      "text/plain": [
       "   SepalLength  SepalWidth  PetalLength  PetalWidth  Species\n",
       "0          5.9         3.0          4.2         1.5        1\n",
       "1          6.9         3.1          5.4         2.1        2\n",
       "2          5.1         3.3          1.7         0.5        0\n",
       "3          6.0         3.4          4.5         1.6        1\n",
       "4          5.5         2.5          4.0         1.3        1"
      ]
     },
     "execution_count": 28,
     "metadata": {},
     "output_type": "execute_result"
    }
   ],
   "source": [
    "df_eval.head(5)"
   ]
  },
  {
   "cell_type": "markdown",
   "metadata": {},
   "source": [
    "###### Dataset processing"
   ]
  },
  {
   "cell_type": "code",
   "execution_count": 29,
   "metadata": {},
   "outputs": [
    {
     "name": "stdout",
     "output_type": "stream",
     "text": [
      "[NumericColumn(key='SepalLength', shape=(1,), default_value=None, dtype=tf.float32, normalizer_fn=None), NumericColumn(key='SepalWidth', shape=(1,), default_value=None, dtype=tf.float32, normalizer_fn=None), NumericColumn(key='PetalLength', shape=(1,), default_value=None, dtype=tf.float32, normalizer_fn=None), NumericColumn(key='PetalWidth', shape=(1,), default_value=None, dtype=tf.float32, normalizer_fn=None)]\n"
     ]
    }
   ],
   "source": [
    "y_train = df_train.pop('Species')\n",
    "y_eval  = df_eval.pop('Species')\n",
    "\n",
    "features_column = []\n",
    "for key in df_train.keys():\n",
    "    features_column.append(tf.feature_column.numeric_column(key=key))\n",
    "\n",
    "print(features_column)    "
   ]
  },
  {
   "cell_type": "markdown",
   "metadata": {},
   "source": [
    "###### convert pandas dataset to tf.data.Dataset Object"
   ]
  },
  {
   "cell_type": "code",
   "execution_count": 30,
   "metadata": {},
   "outputs": [],
   "source": [
    "def input_fn(features, labels, training=True, batch_size=256):\n",
    "    # let convert input to tensforflow Dataset fromat\n",
    "    ds = tf.data.Dataset.from_tensor_slices((dict(features), labels))\n",
    "    \n",
    "    # Shuffle if in training mode\n",
    "    if training:\n",
    "        ds = ds.shuffle(1000).repeat()\n",
    "        \n",
    "    return ds.batch(batch_size)"
   ]
  },
  {
   "cell_type": "markdown",
   "metadata": {},
   "source": [
    "###### creating the model"
   ]
  },
  {
   "cell_type": "code",
   "execution_count": 31,
   "metadata": {},
   "outputs": [],
   "source": [
    "classifier = tf.estimator.DNNClassifier(feature_columns=features_column, hidden_units=[30, 10], n_classes=3)\n",
    "clear_output()"
   ]
  },
  {
   "cell_type": "markdown",
   "metadata": {},
   "source": [
    "###### training the model"
   ]
  },
  {
   "cell_type": "code",
   "execution_count": 34,
   "metadata": {
    "scrolled": false
   },
   "outputs": [
    {
     "name": "stdout",
     "output_type": "stream",
     "text": [
      "INFO:tensorflow:Calling model_fn.\n",
      "INFO:tensorflow:Done calling model_fn.\n",
      "INFO:tensorflow:Create CheckpointSaverHook.\n",
      "INFO:tensorflow:Graph was finalized.\n",
      "INFO:tensorflow:Restoring parameters from /tmp/tmpzc6z1kgy/model.ckpt-10000\n",
      "INFO:tensorflow:Running local_init_op.\n",
      "INFO:tensorflow:Done running local_init_op.\n",
      "INFO:tensorflow:Calling checkpoint listeners before saving checkpoint 10000...\n",
      "INFO:tensorflow:Saving checkpoints for 10000 into /tmp/tmpzc6z1kgy/model.ckpt.\n",
      "INFO:tensorflow:Calling checkpoint listeners after saving checkpoint 10000...\n",
      "INFO:tensorflow:loss = 0.394408, step = 10000\n",
      "INFO:tensorflow:global_step/sec: 146.266\n",
      "INFO:tensorflow:loss = 0.4087716, step = 10100 (0.687 sec)\n",
      "INFO:tensorflow:global_step/sec: 169.964\n",
      "INFO:tensorflow:loss = 0.38967985, step = 10200 (0.594 sec)\n",
      "INFO:tensorflow:global_step/sec: 170.497\n",
      "INFO:tensorflow:loss = 0.39698026, step = 10300 (0.581 sec)\n",
      "INFO:tensorflow:global_step/sec: 175.393\n",
      "INFO:tensorflow:loss = 0.37991345, step = 10400 (0.571 sec)\n",
      "INFO:tensorflow:global_step/sec: 178.553\n",
      "INFO:tensorflow:loss = 0.3858527, step = 10500 (0.562 sec)\n",
      "INFO:tensorflow:global_step/sec: 187.797\n",
      "INFO:tensorflow:loss = 0.38554737, step = 10600 (0.530 sec)\n",
      "INFO:tensorflow:global_step/sec: 186.652\n",
      "INFO:tensorflow:loss = 0.37412715, step = 10700 (0.536 sec)\n",
      "INFO:tensorflow:global_step/sec: 189.344\n",
      "INFO:tensorflow:loss = 0.39229727, step = 10800 (0.528 sec)\n",
      "INFO:tensorflow:global_step/sec: 185.164\n",
      "INFO:tensorflow:loss = 0.37837276, step = 10900 (0.540 sec)\n",
      "INFO:tensorflow:global_step/sec: 185.461\n",
      "INFO:tensorflow:loss = 0.37967995, step = 11000 (0.539 sec)\n",
      "INFO:tensorflow:global_step/sec: 185.836\n",
      "INFO:tensorflow:loss = 0.38103178, step = 11100 (0.538 sec)\n",
      "INFO:tensorflow:global_step/sec: 185.413\n",
      "INFO:tensorflow:loss = 0.37560445, step = 11200 (0.540 sec)\n",
      "INFO:tensorflow:global_step/sec: 187.841\n",
      "INFO:tensorflow:loss = 0.37640005, step = 11300 (0.532 sec)\n",
      "INFO:tensorflow:global_step/sec: 184.903\n",
      "INFO:tensorflow:loss = 0.3695786, step = 11400 (0.542 sec)\n",
      "INFO:tensorflow:global_step/sec: 180.561\n",
      "INFO:tensorflow:loss = 0.36135274, step = 11500 (0.553 sec)\n",
      "INFO:tensorflow:global_step/sec: 186.349\n",
      "INFO:tensorflow:loss = 0.36937356, step = 11600 (0.537 sec)\n",
      "INFO:tensorflow:global_step/sec: 185.787\n",
      "INFO:tensorflow:loss = 0.36539307, step = 11700 (0.538 sec)\n",
      "INFO:tensorflow:global_step/sec: 179.631\n",
      "INFO:tensorflow:loss = 0.36927438, step = 11800 (0.556 sec)\n",
      "INFO:tensorflow:global_step/sec: 182.202\n",
      "INFO:tensorflow:loss = 0.36296317, step = 11900 (0.550 sec)\n",
      "INFO:tensorflow:global_step/sec: 177.656\n",
      "INFO:tensorflow:loss = 0.35700384, step = 12000 (0.562 sec)\n",
      "INFO:tensorflow:global_step/sec: 180.789\n",
      "INFO:tensorflow:loss = 0.35647425, step = 12100 (0.553 sec)\n",
      "INFO:tensorflow:global_step/sec: 187.853\n",
      "INFO:tensorflow:loss = 0.3559956, step = 12200 (0.534 sec)\n",
      "INFO:tensorflow:global_step/sec: 184.929\n",
      "INFO:tensorflow:loss = 0.36543575, step = 12300 (0.540 sec)\n",
      "INFO:tensorflow:global_step/sec: 177.796\n",
      "INFO:tensorflow:loss = 0.35648233, step = 12400 (0.564 sec)\n",
      "INFO:tensorflow:global_step/sec: 182.305\n",
      "INFO:tensorflow:loss = 0.3500712, step = 12500 (0.548 sec)\n",
      "INFO:tensorflow:global_step/sec: 161.781\n",
      "INFO:tensorflow:loss = 0.35259235, step = 12600 (0.616 sec)\n",
      "INFO:tensorflow:global_step/sec: 170.254\n",
      "INFO:tensorflow:loss = 0.34374535, step = 12700 (0.593 sec)\n",
      "INFO:tensorflow:global_step/sec: 175.426\n",
      "INFO:tensorflow:loss = 0.3560347, step = 12800 (0.571 sec)\n",
      "INFO:tensorflow:global_step/sec: 173.931\n",
      "INFO:tensorflow:loss = 0.33820575, step = 12900 (0.572 sec)\n",
      "INFO:tensorflow:global_step/sec: 177.432\n",
      "INFO:tensorflow:loss = 0.3430825, step = 13000 (0.561 sec)\n",
      "INFO:tensorflow:global_step/sec: 181.834\n",
      "INFO:tensorflow:loss = 0.33575577, step = 13100 (0.549 sec)\n",
      "INFO:tensorflow:global_step/sec: 177.131\n",
      "INFO:tensorflow:loss = 0.3454224, step = 13200 (0.566 sec)\n",
      "INFO:tensorflow:global_step/sec: 174.227\n",
      "INFO:tensorflow:loss = 0.33333778, step = 13300 (0.573 sec)\n",
      "INFO:tensorflow:global_step/sec: 184.311\n",
      "INFO:tensorflow:loss = 0.3411667, step = 13400 (0.543 sec)\n",
      "INFO:tensorflow:global_step/sec: 180.263\n",
      "INFO:tensorflow:loss = 0.33372146, step = 13500 (0.556 sec)\n",
      "INFO:tensorflow:global_step/sec: 182.489\n",
      "INFO:tensorflow:loss = 0.3317622, step = 13600 (0.547 sec)\n",
      "INFO:tensorflow:global_step/sec: 176.585\n",
      "INFO:tensorflow:loss = 0.3483534, step = 13700 (0.566 sec)\n",
      "INFO:tensorflow:global_step/sec: 177.557\n",
      "INFO:tensorflow:loss = 0.329903, step = 13800 (0.566 sec)\n",
      "INFO:tensorflow:global_step/sec: 178.313\n",
      "INFO:tensorflow:loss = 0.32969302, step = 13900 (0.559 sec)\n",
      "INFO:tensorflow:global_step/sec: 183.123\n",
      "INFO:tensorflow:loss = 0.3294296, step = 14000 (0.547 sec)\n",
      "INFO:tensorflow:global_step/sec: 181.408\n",
      "INFO:tensorflow:loss = 0.32052708, step = 14100 (0.550 sec)\n",
      "INFO:tensorflow:global_step/sec: 184.408\n",
      "INFO:tensorflow:loss = 0.32842028, step = 14200 (0.543 sec)\n",
      "INFO:tensorflow:global_step/sec: 183.845\n",
      "INFO:tensorflow:loss = 0.32309258, step = 14300 (0.547 sec)\n",
      "INFO:tensorflow:global_step/sec: 185.216\n",
      "INFO:tensorflow:loss = 0.32188502, step = 14400 (0.536 sec)\n",
      "INFO:tensorflow:global_step/sec: 186.674\n",
      "INFO:tensorflow:loss = 0.312324, step = 14500 (0.539 sec)\n",
      "INFO:tensorflow:global_step/sec: 181.206\n",
      "INFO:tensorflow:loss = 0.31812984, step = 14600 (0.549 sec)\n",
      "INFO:tensorflow:global_step/sec: 191.596\n",
      "INFO:tensorflow:loss = 0.307711, step = 14700 (0.521 sec)\n",
      "INFO:tensorflow:global_step/sec: 184.606\n",
      "INFO:tensorflow:loss = 0.31383666, step = 14800 (0.543 sec)\n",
      "INFO:tensorflow:global_step/sec: 186.342\n",
      "INFO:tensorflow:loss = 0.31342816, step = 14900 (0.536 sec)\n",
      "INFO:tensorflow:Calling checkpoint listeners before saving checkpoint 15000...\n",
      "INFO:tensorflow:Saving checkpoints for 15000 into /tmp/tmpzc6z1kgy/model.ckpt.\n",
      "INFO:tensorflow:Calling checkpoint listeners after saving checkpoint 15000...\n",
      "INFO:tensorflow:Loss for final step: 0.305395.\n",
      "INFO:tensorflow:Calling model_fn.\n",
      "INFO:tensorflow:Done calling model_fn.\n",
      "INFO:tensorflow:Starting evaluation at 2022-01-20T05:46:48\n",
      "INFO:tensorflow:Graph was finalized.\n",
      "INFO:tensorflow:Restoring parameters from /tmp/tmpzc6z1kgy/model.ckpt-15000\n",
      "INFO:tensorflow:Running local_init_op.\n",
      "INFO:tensorflow:Done running local_init_op.\n",
      "INFO:tensorflow:Inference Time : 0.47873s\n",
      "INFO:tensorflow:Finished evaluation at 2022-01-20-05:46:49\n",
      "INFO:tensorflow:Saving dict for global step 15000: accuracy = 0.93333334, average_loss = 0.36936414, global_step = 15000, loss = 0.36936414\n",
      "INFO:tensorflow:Saving 'checkpoint_path' summary for global step 15000: /tmp/tmpzc6z1kgy/model.ckpt-15000\n",
      "===================================================================================================================\n",
      "\n",
      "Test set accuracy : 0.933\n",
      "\n",
      "===================================================================================================================\n"
     ]
    }
   ],
   "source": [
    "classifier.train(input_fn=lambda: input_fn(df_train, y_train, training=True), steps=5000)\n",
    "\n",
    "# eval\n",
    "eval_result = classifier.evaluate(input_fn=lambda: input_fn(df_eval, y_eval, training=False))\n",
    "print('='*115)\n",
    "print('\\nTest set accuracy : {accuracy:0.3f}\\n'.format(**eval_result))\n",
    "print('='*115)"
   ]
  },
  {
   "cell_type": "markdown",
   "metadata": {},
   "source": [
    "###### make prediction"
   ]
  },
  {
   "cell_type": "code",
   "execution_count": 35,
   "metadata": {},
   "outputs": [],
   "source": [
    "def prediction():\n",
    "    def input_fn(features, batch_size=256):\n",
    "        return tf.data.Dataset.from_tensor_slices(dict(features)).batch(batch_size)\n",
    "    \n",
    "    features = ['SepalLength', 'SepalWidth', 'PetalLength', 'PetalWidth']\n",
    "    predict = {}\n",
    "    \n",
    "    print(\"Please type numeric value as prompted:\")\n",
    "    for feature in features:\n",
    "        valid = True\n",
    "        while valid:\n",
    "            val = input(feature + \": \")\n",
    "            if not val.isdigit(): valid = False\n",
    "            \n",
    "        predict[feature] = [float(val)]\n",
    "        \n",
    "    predictions = classifier.predict(input_fn=lambda: input_fn(predict))\n",
    "    for prediction in predictions:\n",
    "        print(prediction)\n",
    "        class_id = prediction['class_ids'][0]\n",
    "        probability = prediction['probabilities'][class_id]\n",
    "        \n",
    "        print('{}\\nPrediction is \"{}\" ({:.1f}%)\\n{}'.format('='*115, SPECIES[class_id], 100 * probability, '='*115))"
   ]
  },
  {
   "cell_type": "code",
   "execution_count": 36,
   "metadata": {},
   "outputs": [
    {
     "name": "stdout",
     "output_type": "stream",
     "text": [
      "Please type numeric value as prompted:\n",
      "SepalLength: 5.1\n",
      "SepalWidth: 3.3\n",
      "PetalLength: 1.7\n",
      "PetalWidth: 0.5\n",
      "INFO:tensorflow:Calling model_fn.\n",
      "INFO:tensorflow:Done calling model_fn.\n",
      "INFO:tensorflow:Graph was finalized.\n",
      "INFO:tensorflow:Restoring parameters from /tmp/tmpzc6z1kgy/model.ckpt-15000\n",
      "INFO:tensorflow:Running local_init_op.\n",
      "INFO:tensorflow:Done running local_init_op.\n",
      "{'logits': array([-1.2299173, -3.4614465, -6.6655507], dtype=float32), 'probabilities': array([0.8995049 , 0.09657455, 0.00392047], dtype=float32), 'class_ids': array([0]), 'classes': array([b'0'], dtype=object), 'all_class_ids': array([0, 1, 2], dtype=int32), 'all_classes': array([b'0', b'1', b'2'], dtype=object)}\n",
      "===================================================================================================================\n",
      "Prediction is \"Setosa\" (90.0%)\n",
      "===================================================================================================================\n"
     ]
    }
   ],
   "source": [
    "prediction()"
   ]
  },
  {
   "cell_type": "code",
   "execution_count": 37,
   "metadata": {},
   "outputs": [
    {
     "name": "stdout",
     "output_type": "stream",
     "text": [
      "Please type numeric value as prompted:\n",
      "SepalLength: 5.9\n",
      "SepalWidth: 3.0\n",
      "PetalLength: 4.2\n",
      "PetalWidth: 1.5\n",
      "INFO:tensorflow:Calling model_fn.\n",
      "INFO:tensorflow:Done calling model_fn.\n",
      "INFO:tensorflow:Graph was finalized.\n",
      "INFO:tensorflow:Restoring parameters from /tmp/tmpzc6z1kgy/model.ckpt-15000\n",
      "INFO:tensorflow:Running local_init_op.\n",
      "INFO:tensorflow:Done running local_init_op.\n",
      "{'logits': array([-0.9289289,  1.245981 ,  0.8853576], dtype=float32), 'probabilities': array([0.06274278, 0.5522238 , 0.38503337], dtype=float32), 'class_ids': array([1]), 'classes': array([b'1'], dtype=object), 'all_class_ids': array([0, 1, 2], dtype=int32), 'all_classes': array([b'0', b'1', b'2'], dtype=object)}\n",
      "===================================================================================================================\n",
      "Prediction is \"Versicolor\" (55.2%)\n",
      "===================================================================================================================\n"
     ]
    }
   ],
   "source": [
    "prediction()"
   ]
  },
  {
   "cell_type": "code",
   "execution_count": 38,
   "metadata": {},
   "outputs": [
    {
     "name": "stdout",
     "output_type": "stream",
     "text": [
      "Please type numeric value as prompted:\n",
      "SepalLength: 6.9\n",
      "SepalWidth: 3.1\n",
      "PetalLength: 5.4\n",
      "PetalWidth: 2.1\n",
      "INFO:tensorflow:Calling model_fn.\n",
      "INFO:tensorflow:Done calling model_fn.\n",
      "INFO:tensorflow:Graph was finalized.\n",
      "INFO:tensorflow:Restoring parameters from /tmp/tmpzc6z1kgy/model.ckpt-15000\n",
      "INFO:tensorflow:Running local_init_op.\n",
      "INFO:tensorflow:Done running local_init_op.\n",
      "{'logits': array([-0.9672949,  2.7412453,  3.4153397], dtype=float32), 'probabilities': array([0.00820729, 0.33481002, 0.6569827 ], dtype=float32), 'class_ids': array([2]), 'classes': array([b'2'], dtype=object), 'all_class_ids': array([0, 1, 2], dtype=int32), 'all_classes': array([b'0', b'1', b'2'], dtype=object)}\n",
      "===================================================================================================================\n",
      "Prediction is \"Virginica\" (65.7%)\n",
      "===================================================================================================================\n"
     ]
    }
   ],
   "source": [
    "prediction()"
   ]
  },
  {
   "cell_type": "code",
   "execution_count": null,
   "metadata": {},
   "outputs": [],
   "source": [
    "#---------------------------------------------\n",
    "#here wehave an test case with espected result\n",
    "#| SPECIES     | SL   SW   PL   PW  |\n",
    "#\"Sotosa\"     => 5.1  3.3  1.7  0.5 \n",
    "#\"Versicolor\" => 5.9  3.0  4.2  1.5\n",
    "#\"Virginica\"  => 6.9  3.1  5.4  2.1\n",
    "#---------------------------------------------"
   ]
  }
 ],
 "metadata": {
  "kernelspec": {
   "display_name": "tensorflow",
   "language": "python",
   "name": "tensorflow"
  },
  "language_info": {
   "codemirror_mode": {
    "name": "ipython",
    "version": 3
   },
   "file_extension": ".py",
   "mimetype": "text/x-python",
   "name": "python",
   "nbconvert_exporter": "python",
   "pygments_lexer": "ipython3",
   "version": "3.9.7"
  }
 },
 "nbformat": 4,
 "nbformat_minor": 4
}
