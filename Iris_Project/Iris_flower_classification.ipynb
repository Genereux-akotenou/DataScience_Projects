{
 "cells": [
  {
   "cell_type": "markdown",
   "metadata": {},
   "source": [
    "##### Flower project / Classification problem"
   ]
  },
  {
   "cell_type": "markdown",
   "metadata": {},
   "source": [
    "<img src=\"./favicon.jpg\" alt=\"flower image\" />"
   ]
  },
  {
   "cell_type": "markdown",
   "metadata": {},
   "source": [
    "###### Environment initialization"
   ]
  },
  {
   "cell_type": "code",
   "execution_count": 1,
   "metadata": {},
   "outputs": [
    {
     "name": "stderr",
     "output_type": "stream",
     "text": [
      "UsageError: Line magic function `%tensorflow_version` not found.\n"
     ]
    }
   ],
   "source": [
    "%tensorflow_version 2.x"
   ]
  },
  {
   "cell_type": "code",
   "execution_count": 3,
   "metadata": {},
   "outputs": [],
   "source": [
    "from __future__ import absolute_import, division, print_function, unicode_literals\n",
    "import tensorflow as tf\n",
    "import pandas as pd\n",
    "\n",
    "from IPython.display import clear_output\n"
   ]
  },
  {
   "cell_type": "markdown",
   "metadata": {},
   "source": [
    "###### Dataset loading"
   ]
  },
  {
   "cell_type": "code",
   "execution_count": 4,
   "metadata": {},
   "outputs": [],
   "source": [
    "#train_path = tf.keras.utils.get_file(\"iris_training.csv\", \"https://storage.googleapi.com/download.tensorflow.org/data/iris_training.csv\")\n",
    "#eval_path  = tf.keras.utils.get_file(\"iris_test.csv\", \"https://storage.googleapi.com/download.tensorflow.org/data/iris_test.csv\")\n",
    "\n",
    "CSV_COLUMN_NAME = ['SepalLength', 'SepalWidth', 'PetalLength', 'PetalWidth', 'Species']\n",
    "SPECIES = ['Setosa', 'Versicolor', 'Virginica']\n",
    "\n",
    "df_train = pd.read_csv('iris_training.csv', names=CSV_COLUMN_NAME, header=0)\n",
    "df_eval  = pd.read_csv('iris_test.csv', names=CSV_COLUMN_NAME, header=0)\n"
   ]
  },
  {
   "cell_type": "code",
   "execution_count": 5,
   "metadata": {},
   "outputs": [
    {
     "data": {
      "text/html": [
       "<div>\n",
       "<style scoped>\n",
       "    .dataframe tbody tr th:only-of-type {\n",
       "        vertical-align: middle;\n",
       "    }\n",
       "\n",
       "    .dataframe tbody tr th {\n",
       "        vertical-align: top;\n",
       "    }\n",
       "\n",
       "    .dataframe thead th {\n",
       "        text-align: right;\n",
       "    }\n",
       "</style>\n",
       "<table border=\"1\" class=\"dataframe\">\n",
       "  <thead>\n",
       "    <tr style=\"text-align: right;\">\n",
       "      <th></th>\n",
       "      <th>SepalLength</th>\n",
       "      <th>SepalWidth</th>\n",
       "      <th>PetalLength</th>\n",
       "      <th>PetalWidth</th>\n",
       "      <th>Species</th>\n",
       "    </tr>\n",
       "  </thead>\n",
       "  <tbody>\n",
       "    <tr>\n",
       "      <th>0</th>\n",
       "      <td>6.4</td>\n",
       "      <td>2.8</td>\n",
       "      <td>5.6</td>\n",
       "      <td>2.2</td>\n",
       "      <td>2</td>\n",
       "    </tr>\n",
       "    <tr>\n",
       "      <th>1</th>\n",
       "      <td>5.0</td>\n",
       "      <td>2.3</td>\n",
       "      <td>3.3</td>\n",
       "      <td>1.0</td>\n",
       "      <td>1</td>\n",
       "    </tr>\n",
       "    <tr>\n",
       "      <th>2</th>\n",
       "      <td>4.9</td>\n",
       "      <td>2.5</td>\n",
       "      <td>4.5</td>\n",
       "      <td>1.7</td>\n",
       "      <td>2</td>\n",
       "    </tr>\n",
       "    <tr>\n",
       "      <th>3</th>\n",
       "      <td>4.9</td>\n",
       "      <td>3.1</td>\n",
       "      <td>1.5</td>\n",
       "      <td>0.1</td>\n",
       "      <td>0</td>\n",
       "    </tr>\n",
       "    <tr>\n",
       "      <th>4</th>\n",
       "      <td>5.7</td>\n",
       "      <td>3.8</td>\n",
       "      <td>1.7</td>\n",
       "      <td>0.3</td>\n",
       "      <td>0</td>\n",
       "    </tr>\n",
       "  </tbody>\n",
       "</table>\n",
       "</div>"
      ],
      "text/plain": [
       "   SepalLength  SepalWidth  PetalLength  PetalWidth  Species\n",
       "0          6.4         2.8          5.6         2.2        2\n",
       "1          5.0         2.3          3.3         1.0        1\n",
       "2          4.9         2.5          4.5         1.7        2\n",
       "3          4.9         3.1          1.5         0.1        0\n",
       "4          5.7         3.8          1.7         0.3        0"
      ]
     },
     "execution_count": 5,
     "metadata": {},
     "output_type": "execute_result"
    }
   ],
   "source": [
    "df_train.head(5)"
   ]
  },
  {
   "cell_type": "code",
   "execution_count": 6,
   "metadata": {},
   "outputs": [
    {
     "data": {
      "text/html": [
       "<div>\n",
       "<style scoped>\n",
       "    .dataframe tbody tr th:only-of-type {\n",
       "        vertical-align: middle;\n",
       "    }\n",
       "\n",
       "    .dataframe tbody tr th {\n",
       "        vertical-align: top;\n",
       "    }\n",
       "\n",
       "    .dataframe thead th {\n",
       "        text-align: right;\n",
       "    }\n",
       "</style>\n",
       "<table border=\"1\" class=\"dataframe\">\n",
       "  <thead>\n",
       "    <tr style=\"text-align: right;\">\n",
       "      <th></th>\n",
       "      <th>SepalLength</th>\n",
       "      <th>SepalWidth</th>\n",
       "      <th>PetalLength</th>\n",
       "      <th>PetalWidth</th>\n",
       "      <th>Species</th>\n",
       "    </tr>\n",
       "  </thead>\n",
       "  <tbody>\n",
       "    <tr>\n",
       "      <th>0</th>\n",
       "      <td>5.9</td>\n",
       "      <td>3.0</td>\n",
       "      <td>4.2</td>\n",
       "      <td>1.5</td>\n",
       "      <td>1</td>\n",
       "    </tr>\n",
       "    <tr>\n",
       "      <th>1</th>\n",
       "      <td>6.9</td>\n",
       "      <td>3.1</td>\n",
       "      <td>5.4</td>\n",
       "      <td>2.1</td>\n",
       "      <td>2</td>\n",
       "    </tr>\n",
       "    <tr>\n",
       "      <th>2</th>\n",
       "      <td>5.1</td>\n",
       "      <td>3.3</td>\n",
       "      <td>1.7</td>\n",
       "      <td>0.5</td>\n",
       "      <td>0</td>\n",
       "    </tr>\n",
       "    <tr>\n",
       "      <th>3</th>\n",
       "      <td>6.0</td>\n",
       "      <td>3.4</td>\n",
       "      <td>4.5</td>\n",
       "      <td>1.6</td>\n",
       "      <td>1</td>\n",
       "    </tr>\n",
       "    <tr>\n",
       "      <th>4</th>\n",
       "      <td>5.5</td>\n",
       "      <td>2.5</td>\n",
       "      <td>4.0</td>\n",
       "      <td>1.3</td>\n",
       "      <td>1</td>\n",
       "    </tr>\n",
       "  </tbody>\n",
       "</table>\n",
       "</div>"
      ],
      "text/plain": [
       "   SepalLength  SepalWidth  PetalLength  PetalWidth  Species\n",
       "0          5.9         3.0          4.2         1.5        1\n",
       "1          6.9         3.1          5.4         2.1        2\n",
       "2          5.1         3.3          1.7         0.5        0\n",
       "3          6.0         3.4          4.5         1.6        1\n",
       "4          5.5         2.5          4.0         1.3        1"
      ]
     },
     "execution_count": 6,
     "metadata": {},
     "output_type": "execute_result"
    }
   ],
   "source": [
    "df_eval.head(5)"
   ]
  },
  {
   "cell_type": "markdown",
   "metadata": {},
   "source": [
    "###### Dataset processing"
   ]
  },
  {
   "cell_type": "code",
   "execution_count": 7,
   "metadata": {},
   "outputs": [
    {
     "name": "stdout",
     "output_type": "stream",
     "text": [
      "[NumericColumn(key='SepalLength', shape=(1,), default_value=None, dtype=tf.float32, normalizer_fn=None), NumericColumn(key='SepalWidth', shape=(1,), default_value=None, dtype=tf.float32, normalizer_fn=None), NumericColumn(key='PetalLength', shape=(1,), default_value=None, dtype=tf.float32, normalizer_fn=None), NumericColumn(key='PetalWidth', shape=(1,), default_value=None, dtype=tf.float32, normalizer_fn=None)]\n"
     ]
    }
   ],
   "source": [
    "y_train = df_train.pop('Species')\n",
    "y_eval  = df_eval.pop('Species')\n",
    "\n",
    "features_column = []\n",
    "for key in df_train.keys():\n",
    "    features_column.append(tf.feature_column.numeric_column(key=key))\n",
    "\n",
    "print(features_column)    "
   ]
  },
  {
   "cell_type": "markdown",
   "metadata": {},
   "source": [
    "###### convert pandas dataset to tf.data.Dataset Object"
   ]
  },
  {
   "cell_type": "code",
   "execution_count": 8,
   "metadata": {},
   "outputs": [],
   "source": [
    "def input_fn(features, labels, training=True, batch_size=256):\n",
    "    # let convert input to tensforflow Dataset fromat\n",
    "    ds = tf.data.Dataset.from_tensor_slices((dict(features), labels))\n",
    "    \n",
    "    # Shuffle if in training mode\n",
    "    if training:\n",
    "        ds = ds.shuffle(1000).repeat()\n",
    "        \n",
    "    return ds.batch(batch_size)"
   ]
  },
  {
   "cell_type": "markdown",
   "metadata": {},
   "source": [
    "###### creating the model"
   ]
  },
  {
   "cell_type": "code",
   "execution_count": 9,
   "metadata": {},
   "outputs": [],
   "source": [
    "classifier = tf.estimator.DNNClassifier(feature_columns=features_column, hidden_units=[30, 10], n_classes=3)\n",
    "clear_output()"
   ]
  },
  {
   "cell_type": "markdown",
   "metadata": {},
   "source": [
    "###### training the model"
   ]
  },
  {
   "cell_type": "code",
   "execution_count": 11,
   "metadata": {
    "scrolled": false
   },
   "outputs": [
    {
     "name": "stdout",
     "output_type": "stream",
     "text": [
      "INFO:tensorflow:Calling model_fn.\n",
      "INFO:tensorflow:Done calling model_fn.\n",
      "INFO:tensorflow:Create CheckpointSaverHook.\n",
      "INFO:tensorflow:Graph was finalized.\n",
      "INFO:tensorflow:Restoring parameters from /tmp/tmp32smevtv/model.ckpt-5000\n",
      "WARNING:tensorflow:From /home/genereux/anaconda3/envs/tensorflow/lib/python3.9/site-packages/tensorflow/python/training/saver.py:1078: get_checkpoint_mtimes (from tensorflow.python.training.checkpoint_management) is deprecated and will be removed in a future version.\n",
      "Instructions for updating:\n",
      "Use standard file utilities to get mtimes.\n",
      "INFO:tensorflow:Running local_init_op.\n",
      "INFO:tensorflow:Done running local_init_op.\n",
      "INFO:tensorflow:Calling checkpoint listeners before saving checkpoint 5000...\n",
      "INFO:tensorflow:Saving checkpoints for 5000 into /tmp/tmp32smevtv/model.ckpt.\n",
      "INFO:tensorflow:Calling checkpoint listeners after saving checkpoint 5000...\n",
      "INFO:tensorflow:loss = 0.6245415, step = 5000\n",
      "INFO:tensorflow:global_step/sec: 157.548\n",
      "INFO:tensorflow:loss = 0.62999344, step = 5100 (0.638 sec)\n",
      "INFO:tensorflow:global_step/sec: 172.281\n",
      "INFO:tensorflow:loss = 0.60988635, step = 5200 (0.580 sec)\n",
      "INFO:tensorflow:global_step/sec: 190.904\n",
      "INFO:tensorflow:loss = 0.61308384, step = 5300 (0.524 sec)\n",
      "INFO:tensorflow:global_step/sec: 192.536\n",
      "INFO:tensorflow:loss = 0.6006266, step = 5400 (0.519 sec)\n",
      "INFO:tensorflow:global_step/sec: 195.55\n",
      "INFO:tensorflow:loss = 0.5941243, step = 5500 (0.512 sec)\n",
      "INFO:tensorflow:global_step/sec: 191.346\n",
      "INFO:tensorflow:loss = 0.58931804, step = 5600 (0.523 sec)\n",
      "INFO:tensorflow:global_step/sec: 190.062\n",
      "INFO:tensorflow:loss = 0.58603364, step = 5700 (0.527 sec)\n",
      "INFO:tensorflow:global_step/sec: 189.203\n",
      "INFO:tensorflow:loss = 0.5738299, step = 5800 (0.526 sec)\n",
      "INFO:tensorflow:global_step/sec: 189.744\n",
      "INFO:tensorflow:loss = 0.5742821, step = 5900 (0.527 sec)\n",
      "INFO:tensorflow:global_step/sec: 191.52\n",
      "INFO:tensorflow:loss = 0.56673425, step = 6000 (0.523 sec)\n",
      "INFO:tensorflow:global_step/sec: 194.147\n",
      "INFO:tensorflow:loss = 0.5538546, step = 6100 (0.514 sec)\n",
      "INFO:tensorflow:global_step/sec: 191.63\n",
      "INFO:tensorflow:loss = 0.55448496, step = 6200 (0.522 sec)\n",
      "INFO:tensorflow:global_step/sec: 189.329\n",
      "INFO:tensorflow:loss = 0.5538031, step = 6300 (0.528 sec)\n",
      "INFO:tensorflow:global_step/sec: 193.861\n",
      "INFO:tensorflow:loss = 0.54043174, step = 6400 (0.517 sec)\n",
      "INFO:tensorflow:global_step/sec: 192.873\n",
      "INFO:tensorflow:loss = 0.54257363, step = 6500 (0.520 sec)\n",
      "INFO:tensorflow:global_step/sec: 190.61\n",
      "INFO:tensorflow:loss = 0.5354383, step = 6600 (0.521 sec)\n",
      "INFO:tensorflow:global_step/sec: 191.593\n",
      "INFO:tensorflow:loss = 0.53451633, step = 6700 (0.522 sec)\n",
      "INFO:tensorflow:global_step/sec: 197.242\n",
      "INFO:tensorflow:loss = 0.5238081, step = 6800 (0.508 sec)\n",
      "INFO:tensorflow:global_step/sec: 168.49\n",
      "INFO:tensorflow:loss = 0.51956767, step = 6900 (0.594 sec)\n",
      "INFO:tensorflow:global_step/sec: 185.836\n",
      "INFO:tensorflow:loss = 0.5224293, step = 7000 (0.538 sec)\n",
      "INFO:tensorflow:global_step/sec: 207.798\n",
      "INFO:tensorflow:loss = 0.5074527, step = 7100 (0.480 sec)\n",
      "INFO:tensorflow:global_step/sec: 192.518\n",
      "INFO:tensorflow:loss = 0.5061802, step = 7200 (0.521 sec)\n",
      "INFO:tensorflow:global_step/sec: 192.304\n",
      "INFO:tensorflow:loss = 0.49485126, step = 7300 (0.520 sec)\n",
      "INFO:tensorflow:global_step/sec: 190.318\n",
      "INFO:tensorflow:loss = 0.49826777, step = 7400 (0.528 sec)\n",
      "INFO:tensorflow:global_step/sec: 193.466\n",
      "INFO:tensorflow:loss = 0.4802484, step = 7500 (0.514 sec)\n",
      "INFO:tensorflow:global_step/sec: 189.631\n",
      "INFO:tensorflow:loss = 0.48209447, step = 7600 (0.528 sec)\n",
      "INFO:tensorflow:global_step/sec: 188.404\n",
      "INFO:tensorflow:loss = 0.48181388, step = 7700 (0.533 sec)\n",
      "INFO:tensorflow:global_step/sec: 190.599\n",
      "INFO:tensorflow:loss = 0.47918755, step = 7800 (0.523 sec)\n",
      "INFO:tensorflow:global_step/sec: 192.791\n",
      "INFO:tensorflow:loss = 0.48006332, step = 7900 (0.519 sec)\n",
      "INFO:tensorflow:global_step/sec: 190.297\n",
      "INFO:tensorflow:loss = 0.46917263, step = 8000 (0.525 sec)\n",
      "INFO:tensorflow:global_step/sec: 190.304\n",
      "INFO:tensorflow:loss = 0.4697445, step = 8100 (0.526 sec)\n",
      "INFO:tensorflow:global_step/sec: 190.007\n",
      "INFO:tensorflow:loss = 0.46952403, step = 8200 (0.527 sec)\n",
      "INFO:tensorflow:global_step/sec: 191.45\n",
      "INFO:tensorflow:loss = 0.46208736, step = 8300 (0.522 sec)\n",
      "INFO:tensorflow:global_step/sec: 195.529\n",
      "INFO:tensorflow:loss = 0.4701102, step = 8400 (0.510 sec)\n",
      "INFO:tensorflow:global_step/sec: 177.078\n",
      "INFO:tensorflow:loss = 0.4589709, step = 8500 (0.565 sec)\n",
      "INFO:tensorflow:global_step/sec: 187.305\n",
      "INFO:tensorflow:loss = 0.45013207, step = 8600 (0.537 sec)\n",
      "INFO:tensorflow:global_step/sec: 184.159\n",
      "INFO:tensorflow:loss = 0.43943715, step = 8700 (0.540 sec)\n",
      "INFO:tensorflow:global_step/sec: 191.284\n",
      "INFO:tensorflow:loss = 0.43733507, step = 8800 (0.523 sec)\n",
      "INFO:tensorflow:global_step/sec: 176.553\n",
      "INFO:tensorflow:loss = 0.44145754, step = 8900 (0.566 sec)\n",
      "INFO:tensorflow:global_step/sec: 197.01\n",
      "INFO:tensorflow:loss = 0.44391027, step = 9000 (0.512 sec)\n",
      "INFO:tensorflow:global_step/sec: 189.747\n",
      "INFO:tensorflow:loss = 0.42634663, step = 9100 (0.524 sec)\n",
      "INFO:tensorflow:global_step/sec: 192.992\n",
      "INFO:tensorflow:loss = 0.43034852, step = 9200 (0.518 sec)\n",
      "INFO:tensorflow:global_step/sec: 191.129\n",
      "INFO:tensorflow:loss = 0.4268399, step = 9300 (0.523 sec)\n",
      "INFO:tensorflow:global_step/sec: 190.936\n",
      "INFO:tensorflow:loss = 0.42454073, step = 9400 (0.524 sec)\n",
      "INFO:tensorflow:global_step/sec: 190.303\n",
      "INFO:tensorflow:loss = 0.42048877, step = 9500 (0.525 sec)\n",
      "INFO:tensorflow:global_step/sec: 192.561\n",
      "INFO:tensorflow:loss = 0.42620683, step = 9600 (0.521 sec)\n",
      "INFO:tensorflow:global_step/sec: 189.494\n",
      "INFO:tensorflow:loss = 0.4292101, step = 9700 (0.526 sec)\n",
      "INFO:tensorflow:global_step/sec: 189.446\n",
      "INFO:tensorflow:loss = 0.42679268, step = 9800 (0.528 sec)\n",
      "INFO:tensorflow:global_step/sec: 191.033\n",
      "INFO:tensorflow:loss = 0.41675222, step = 9900 (0.522 sec)\n",
      "INFO:tensorflow:Calling checkpoint listeners before saving checkpoint 10000...\n",
      "INFO:tensorflow:Saving checkpoints for 10000 into /tmp/tmp32smevtv/model.ckpt.\n",
      "INFO:tensorflow:Calling checkpoint listeners after saving checkpoint 10000...\n",
      "INFO:tensorflow:Loss for final step: 0.41131455.\n",
      "INFO:tensorflow:Calling model_fn.\n",
      "INFO:tensorflow:Done calling model_fn.\n",
      "INFO:tensorflow:Starting evaluation at 2022-01-20T04:50:23\n",
      "INFO:tensorflow:Graph was finalized.\n",
      "INFO:tensorflow:Restoring parameters from /tmp/tmp32smevtv/model.ckpt-10000\n",
      "INFO:tensorflow:Running local_init_op.\n",
      "INFO:tensorflow:Done running local_init_op.\n",
      "INFO:tensorflow:Inference Time : 0.48130s\n",
      "INFO:tensorflow:Finished evaluation at 2022-01-20-04:50:23\n",
      "INFO:tensorflow:Saving dict for global step 10000: accuracy = 0.93333334, average_loss = 0.46389878, global_step = 10000, loss = 0.46389878\n",
      "INFO:tensorflow:Saving 'checkpoint_path' summary for global step 10000: /tmp/tmp32smevtv/model.ckpt-10000\n",
      "===================================================================================================================\n",
      "\n",
      "Test set accuracy : 0.933\n",
      "\n",
      "===================================================================================================================\n"
     ]
    }
   ],
   "source": [
    "classifier.train(input_fn=lambda: input_fn(df_train, y_train, training=True), steps=5000)\n",
    "\n",
    "# eval\n",
    "eval_result = classifier.evaluate(input_fn=lambda: input_fn(df_eval, y_eval, training=False))\n",
    "print('='*115)\n",
    "print('\\nTest set accuracy : {accuracy:0.3f}\\n'.format(**eval_result))\n",
    "print('='*115)"
   ]
  },
  {
   "cell_type": "markdown",
   "metadata": {},
   "source": [
    "###### make prediction"
   ]
  },
  {
   "cell_type": "code",
   "execution_count": 12,
   "metadata": {},
   "outputs": [],
   "source": [
    "def prediction():\n",
    "    def input_fn(features, batch_size=256):\n",
    "        return tf.data.Dataset.from_tensor_slices(dict(features)).batch(batch_size)\n",
    "    \n",
    "    features = ['SepalLength', 'SepalWidth', 'PetalLength', 'PetalWidth']\n",
    "    predict = {}\n",
    "    \n",
    "    print(\"Please type numeric value as prompted:\")\n",
    "    for feature in features:\n",
    "        valid = True\n",
    "        while valid:\n",
    "            val = input(feature + \": \")\n",
    "            if not val.isdigit(): valid = False\n",
    "            \n",
    "        predict[feature] = [float(val)]\n",
    "        \n",
    "    predictions = classifier.predict(input_fn=lambda: input_fn(predict))\n",
    "    for prediction in predictions:\n",
    "        print(prediction)\n",
    "        class_id = prediction['class_ids'][0]\n",
    "        probability = prediction['probabilities'][class_id]\n",
    "        \n",
    "        print('{}\\nPrediction is \"{}\" ({:.1f}%)\\n{}'.format('='*115, SPECIES[class_id], 100 * probability, '='*115))"
   ]
  },
  {
   "cell_type": "code",
   "execution_count": 13,
   "metadata": {},
   "outputs": [
    {
     "name": "stdout",
     "output_type": "stream",
     "text": [
      "Please type numeric value as prompted:\n",
      "SepalLength: 5.1\n",
      "SepalWidth: 3.3\n",
      "PetalLength: 1.7\n",
      "PetalWidth: 0.5\n",
      "INFO:tensorflow:Calling model_fn.\n",
      "INFO:tensorflow:Done calling model_fn.\n",
      "INFO:tensorflow:Graph was finalized.\n",
      "INFO:tensorflow:Restoring parameters from /tmp/tmp32smevtv/model.ckpt-10000\n",
      "INFO:tensorflow:Running local_init_op.\n",
      "INFO:tensorflow:Done running local_init_op.\n",
      "{'logits': array([ 1.7725794 ,  0.35830453, -0.8228857 ], dtype=float32), 'probabilities': array([0.75889057, 0.18448769, 0.0566217 ], dtype=float32), 'class_ids': array([0]), 'classes': array([b'0'], dtype=object), 'all_class_ids': array([0, 1, 2], dtype=int32), 'all_classes': array([b'0', b'1', b'2'], dtype=object)}\n",
      "===================================================================================================================\n",
      "Prediction is \"Setosa\" (75.9%)\n",
      "===================================================================================================================\n"
     ]
    }
   ],
   "source": [
    "prediction()"
   ]
  },
  {
   "cell_type": "code",
   "execution_count": 14,
   "metadata": {},
   "outputs": [
    {
     "name": "stdout",
     "output_type": "stream",
     "text": [
      "Please type numeric value as prompted:\n",
      "SepalLength: 5.9\n",
      "SepalWidth: 3.0\n",
      "PetalLength: 4.2\n",
      "PetalWidth: 1.5\n",
      "INFO:tensorflow:Calling model_fn.\n",
      "INFO:tensorflow:Done calling model_fn.\n",
      "INFO:tensorflow:Graph was finalized.\n",
      "INFO:tensorflow:Restoring parameters from /tmp/tmp32smevtv/model.ckpt-10000\n",
      "INFO:tensorflow:Running local_init_op.\n",
      "INFO:tensorflow:Done running local_init_op.\n",
      "{'logits': array([0.83265096, 2.629861  , 2.2061238 ], dtype=float32), 'probabilities': array([0.09105946, 0.54934293, 0.3595976 ], dtype=float32), 'class_ids': array([1]), 'classes': array([b'1'], dtype=object), 'all_class_ids': array([0, 1, 2], dtype=int32), 'all_classes': array([b'0', b'1', b'2'], dtype=object)}\n",
      "===================================================================================================================\n",
      "Prediction is \"Versicolor\" (54.9%)\n",
      "===================================================================================================================\n"
     ]
    }
   ],
   "source": [
    "prediction()"
   ]
  },
  {
   "cell_type": "code",
   "execution_count": 15,
   "metadata": {},
   "outputs": [
    {
     "name": "stdout",
     "output_type": "stream",
     "text": [
      "Please type numeric value as prompted:\n",
      "SepalLength: 6.9\n",
      "SepalWidth: 3.1\n",
      "PetalLength: 5.4\n",
      "PetalWidth: 2.1\n",
      "INFO:tensorflow:Calling model_fn.\n",
      "INFO:tensorflow:Done calling model_fn.\n",
      "INFO:tensorflow:Graph was finalized.\n",
      "INFO:tensorflow:Restoring parameters from /tmp/tmp32smevtv/model.ckpt-10000\n",
      "INFO:tensorflow:Running local_init_op.\n",
      "INFO:tensorflow:Done running local_init_op.\n",
      "{'logits': array([0.8719103, 3.2146893, 3.7371318], dtype=float32), 'probabilities': array([0.03452673, 0.3594276 , 0.60604566], dtype=float32), 'class_ids': array([2]), 'classes': array([b'2'], dtype=object), 'all_class_ids': array([0, 1, 2], dtype=int32), 'all_classes': array([b'0', b'1', b'2'], dtype=object)}\n",
      "===================================================================================================================\n",
      "Prediction is \"Virginica\" (60.6%)\n",
      "===================================================================================================================\n"
     ]
    }
   ],
   "source": [
    "prediction()"
   ]
  },
  {
   "cell_type": "code",
   "execution_count": null,
   "metadata": {},
   "outputs": [],
   "source": [
    "#---------------------------------------------\n",
    "#here wehave an test case with espected result\n",
    "#| SPECIES     | SL   SW   PL   PW  |\n",
    "#\"Sotosa\"     => 5.1  3.3  1.7  0.5 \n",
    "#\"Versicolor\" => 5.9  3.0  4.2  1.5\n",
    "#\"Virginica\"  => 6.9  3.1  5.4  2.1\n",
    "#---------------------------------------------"
   ]
  }
 ],
 "metadata": {
  "kernelspec": {
   "display_name": "tensorflow",
   "language": "python",
   "name": "tensorflow"
  },
  "language_info": {
   "codemirror_mode": {
    "name": "ipython",
    "version": 3
   },
   "file_extension": ".py",
   "mimetype": "text/x-python",
   "name": "python",
   "nbconvert_exporter": "python",
   "pygments_lexer": "ipython3",
   "version": "3.9.7"
  }
 },
 "nbformat": 4,
 "nbformat_minor": 4
}
