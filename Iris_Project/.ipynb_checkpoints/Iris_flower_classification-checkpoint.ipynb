{
 "cells": [
  {
   "cell_type": "markdown",
   "metadata": {},
   "source": [
    "##### Flower project / Classification problem"
   ]
  },
  {
   "cell_type": "markdown",
   "metadata": {},
   "source": [
    "<img src=\"./favicon.jpg\" alt=\"flower image\" />"
   ]
  },
  {
   "cell_type": "markdown",
   "metadata": {},
   "source": [
    "###### Environment initialization"
   ]
  },
  {
   "cell_type": "code",
   "execution_count": 1,
   "metadata": {},
   "outputs": [
    {
     "name": "stderr",
     "output_type": "stream",
     "text": [
      "UsageError: Line magic function `%tensorflow_version` not found.\n"
     ]
    }
   ],
   "source": [
    "%tensorflow_version 2.x"
   ]
  },
  {
   "cell_type": "code",
   "execution_count": 3,
   "metadata": {},
   "outputs": [],
   "source": [
    "from __future__ import absolute_import, division, print_function, unicode_literals\n",
    "import tensorflow as tf\n",
    "import pandas as pd\n",
    "\n",
    "from IPython.display import clear_output\n"
   ]
  },
  {
   "cell_type": "markdown",
   "metadata": {},
   "source": [
    "###### Dataset loading"
   ]
  },
  {
   "cell_type": "code",
   "execution_count": 4,
   "metadata": {},
   "outputs": [],
   "source": [
    "#train_path = tf.keras.utils.get_file(\"iris_training.csv\", \"https://storage.googleapi.com/download.tensorflow.org/data/iris_training.csv\")\n",
    "#eval_path  = tf.keras.utils.get_file(\"iris_test.csv\", \"https://storage.googleapi.com/download.tensorflow.org/data/iris_test.csv\")\n",
    "\n",
    "CSV_COLUMN_NAME = ['SepalLength', 'SepalWidth', 'PetalLength', 'PetalWidth', 'Species']\n",
    "SPECIES = ['Setosa', 'Versicolor', 'Virginica']\n",
    "\n",
    "df_train = pd.read_csv('iris_training.csv', names=CSV_COLUMN_NAME, header=0)\n",
    "df_eval  = pd.read_csv('iris_test.csv', names=CSV_COLUMN_NAME, header=0)\n"
   ]
  },
  {
   "cell_type": "code",
   "execution_count": 5,
   "metadata": {},
   "outputs": [
    {
     "data": {
      "text/html": [
       "<div>\n",
       "<style scoped>\n",
       "    .dataframe tbody tr th:only-of-type {\n",
       "        vertical-align: middle;\n",
       "    }\n",
       "\n",
       "    .dataframe tbody tr th {\n",
       "        vertical-align: top;\n",
       "    }\n",
       "\n",
       "    .dataframe thead th {\n",
       "        text-align: right;\n",
       "    }\n",
       "</style>\n",
       "<table border=\"1\" class=\"dataframe\">\n",
       "  <thead>\n",
       "    <tr style=\"text-align: right;\">\n",
       "      <th></th>\n",
       "      <th>SepalLength</th>\n",
       "      <th>SepalWidth</th>\n",
       "      <th>PetalLength</th>\n",
       "      <th>PetalWidth</th>\n",
       "      <th>Species</th>\n",
       "    </tr>\n",
       "  </thead>\n",
       "  <tbody>\n",
       "    <tr>\n",
       "      <th>0</th>\n",
       "      <td>6.4</td>\n",
       "      <td>2.8</td>\n",
       "      <td>5.6</td>\n",
       "      <td>2.2</td>\n",
       "      <td>2</td>\n",
       "    </tr>\n",
       "    <tr>\n",
       "      <th>1</th>\n",
       "      <td>5.0</td>\n",
       "      <td>2.3</td>\n",
       "      <td>3.3</td>\n",
       "      <td>1.0</td>\n",
       "      <td>1</td>\n",
       "    </tr>\n",
       "    <tr>\n",
       "      <th>2</th>\n",
       "      <td>4.9</td>\n",
       "      <td>2.5</td>\n",
       "      <td>4.5</td>\n",
       "      <td>1.7</td>\n",
       "      <td>2</td>\n",
       "    </tr>\n",
       "    <tr>\n",
       "      <th>3</th>\n",
       "      <td>4.9</td>\n",
       "      <td>3.1</td>\n",
       "      <td>1.5</td>\n",
       "      <td>0.1</td>\n",
       "      <td>0</td>\n",
       "    </tr>\n",
       "    <tr>\n",
       "      <th>4</th>\n",
       "      <td>5.7</td>\n",
       "      <td>3.8</td>\n",
       "      <td>1.7</td>\n",
       "      <td>0.3</td>\n",
       "      <td>0</td>\n",
       "    </tr>\n",
       "  </tbody>\n",
       "</table>\n",
       "</div>"
      ],
      "text/plain": [
       "   SepalLength  SepalWidth  PetalLength  PetalWidth  Species\n",
       "0          6.4         2.8          5.6         2.2        2\n",
       "1          5.0         2.3          3.3         1.0        1\n",
       "2          4.9         2.5          4.5         1.7        2\n",
       "3          4.9         3.1          1.5         0.1        0\n",
       "4          5.7         3.8          1.7         0.3        0"
      ]
     },
     "execution_count": 5,
     "metadata": {},
     "output_type": "execute_result"
    }
   ],
   "source": [
    "df_train.head(5)"
   ]
  },
  {
   "cell_type": "code",
   "execution_count": 6,
   "metadata": {},
   "outputs": [
    {
     "data": {
      "text/html": [
       "<div>\n",
       "<style scoped>\n",
       "    .dataframe tbody tr th:only-of-type {\n",
       "        vertical-align: middle;\n",
       "    }\n",
       "\n",
       "    .dataframe tbody tr th {\n",
       "        vertical-align: top;\n",
       "    }\n",
       "\n",
       "    .dataframe thead th {\n",
       "        text-align: right;\n",
       "    }\n",
       "</style>\n",
       "<table border=\"1\" class=\"dataframe\">\n",
       "  <thead>\n",
       "    <tr style=\"text-align: right;\">\n",
       "      <th></th>\n",
       "      <th>SepalLength</th>\n",
       "      <th>SepalWidth</th>\n",
       "      <th>PetalLength</th>\n",
       "      <th>PetalWidth</th>\n",
       "      <th>Species</th>\n",
       "    </tr>\n",
       "  </thead>\n",
       "  <tbody>\n",
       "    <tr>\n",
       "      <th>0</th>\n",
       "      <td>5.9</td>\n",
       "      <td>3.0</td>\n",
       "      <td>4.2</td>\n",
       "      <td>1.5</td>\n",
       "      <td>1</td>\n",
       "    </tr>\n",
       "    <tr>\n",
       "      <th>1</th>\n",
       "      <td>6.9</td>\n",
       "      <td>3.1</td>\n",
       "      <td>5.4</td>\n",
       "      <td>2.1</td>\n",
       "      <td>2</td>\n",
       "    </tr>\n",
       "    <tr>\n",
       "      <th>2</th>\n",
       "      <td>5.1</td>\n",
       "      <td>3.3</td>\n",
       "      <td>1.7</td>\n",
       "      <td>0.5</td>\n",
       "      <td>0</td>\n",
       "    </tr>\n",
       "    <tr>\n",
       "      <th>3</th>\n",
       "      <td>6.0</td>\n",
       "      <td>3.4</td>\n",
       "      <td>4.5</td>\n",
       "      <td>1.6</td>\n",
       "      <td>1</td>\n",
       "    </tr>\n",
       "    <tr>\n",
       "      <th>4</th>\n",
       "      <td>5.5</td>\n",
       "      <td>2.5</td>\n",
       "      <td>4.0</td>\n",
       "      <td>1.3</td>\n",
       "      <td>1</td>\n",
       "    </tr>\n",
       "  </tbody>\n",
       "</table>\n",
       "</div>"
      ],
      "text/plain": [
       "   SepalLength  SepalWidth  PetalLength  PetalWidth  Species\n",
       "0          5.9         3.0          4.2         1.5        1\n",
       "1          6.9         3.1          5.4         2.1        2\n",
       "2          5.1         3.3          1.7         0.5        0\n",
       "3          6.0         3.4          4.5         1.6        1\n",
       "4          5.5         2.5          4.0         1.3        1"
      ]
     },
     "execution_count": 6,
     "metadata": {},
     "output_type": "execute_result"
    }
   ],
   "source": [
    "df_eval.head(5)"
   ]
  },
  {
   "cell_type": "markdown",
   "metadata": {},
   "source": [
    "###### Dataset processing"
   ]
  },
  {
   "cell_type": "code",
   "execution_count": 7,
   "metadata": {},
   "outputs": [
    {
     "name": "stdout",
     "output_type": "stream",
     "text": [
      "[NumericColumn(key='SepalLength', shape=(1,), default_value=None, dtype=tf.float32, normalizer_fn=None), NumericColumn(key='SepalWidth', shape=(1,), default_value=None, dtype=tf.float32, normalizer_fn=None), NumericColumn(key='PetalLength', shape=(1,), default_value=None, dtype=tf.float32, normalizer_fn=None), NumericColumn(key='PetalWidth', shape=(1,), default_value=None, dtype=tf.float32, normalizer_fn=None)]\n"
     ]
    }
   ],
   "source": [
    "y_train = df_train.pop('Species')\n",
    "y_eval  = df_eval.pop('Species')\n",
    "\n",
    "features_column = []\n",
    "for key in df_train.keys():\n",
    "    features_column.append(tf.feature_column.numeric_column(key=key))\n",
    "\n",
    "print(features_column)    "
   ]
  },
  {
   "cell_type": "markdown",
   "metadata": {},
   "source": [
    "###### convert pandas dataset to tf.data.Dataset Object"
   ]
  },
  {
   "cell_type": "code",
   "execution_count": 8,
   "metadata": {},
   "outputs": [],
   "source": [
    "def input_fn(features, labels, training=True, batch_size=256):\n",
    "    # let convert input to tensforflow Dataset fromat\n",
    "    ds = tf.data.Dataset.from_tensor_slices((dict(features), labels))\n",
    "    \n",
    "    # Shuffle if in training mode\n",
    "    if training:\n",
    "        ds = ds.shuffle(1000).repeat()\n",
    "        \n",
    "    return ds.batch(batch_size)"
   ]
  },
  {
   "cell_type": "markdown",
   "metadata": {},
   "source": [
    "###### creating the model"
   ]
  },
  {
   "cell_type": "code",
   "execution_count": 9,
   "metadata": {},
   "outputs": [],
   "source": [
    "classifier = tf.estimator.DNNClassifier(feature_columns=features_column, hidden_units=[30, 10], n_classes=3)\n",
    "clear_output()"
   ]
  },
  {
   "cell_type": "markdown",
   "metadata": {},
   "source": [
    "###### training the model"
   ]
  },
  {
   "cell_type": "code",
   "execution_count": 15,
   "metadata": {
    "scrolled": false
   },
   "outputs": [
    {
     "name": "stdout",
     "output_type": "stream",
     "text": [
      "INFO:tensorflow:Calling model_fn.\n",
      "INFO:tensorflow:Done calling model_fn.\n",
      "INFO:tensorflow:Create CheckpointSaverHook.\n",
      "INFO:tensorflow:Graph was finalized.\n",
      "INFO:tensorflow:Restoring parameters from /tmp/tmpd4l7z4_h/model.ckpt-25000\n",
      "INFO:tensorflow:Running local_init_op.\n",
      "INFO:tensorflow:Done running local_init_op.\n",
      "INFO:tensorflow:Calling checkpoint listeners before saving checkpoint 25000...\n",
      "INFO:tensorflow:Saving checkpoints for 25000 into /tmp/tmpd4l7z4_h/model.ckpt.\n",
      "INFO:tensorflow:Calling checkpoint listeners after saving checkpoint 25000...\n",
      "INFO:tensorflow:loss = 0.32705414, step = 25000\n",
      "INFO:tensorflow:global_step/sec: 154.092\n",
      "INFO:tensorflow:loss = 0.32637084, step = 25100 (0.651 sec)\n",
      "INFO:tensorflow:global_step/sec: 187.414\n",
      "INFO:tensorflow:loss = 0.3307263, step = 25200 (0.534 sec)\n",
      "INFO:tensorflow:global_step/sec: 184.682\n",
      "INFO:tensorflow:loss = 0.32719547, step = 25300 (0.541 sec)\n",
      "INFO:tensorflow:global_step/sec: 179.665\n",
      "INFO:tensorflow:loss = 0.3211527, step = 25400 (0.556 sec)\n",
      "INFO:tensorflow:global_step/sec: 190.206\n",
      "INFO:tensorflow:loss = 0.32501066, step = 25500 (0.526 sec)\n",
      "INFO:tensorflow:global_step/sec: 183.525\n",
      "INFO:tensorflow:loss = 0.32312024, step = 25600 (0.545 sec)\n",
      "INFO:tensorflow:global_step/sec: 184.709\n",
      "INFO:tensorflow:loss = 0.34163594, step = 25700 (0.542 sec)\n",
      "INFO:tensorflow:global_step/sec: 182.606\n",
      "INFO:tensorflow:loss = 0.32440197, step = 25800 (0.549 sec)\n",
      "INFO:tensorflow:global_step/sec: 178.188\n",
      "INFO:tensorflow:loss = 0.31298327, step = 25900 (0.559 sec)\n",
      "INFO:tensorflow:global_step/sec: 171.983\n",
      "INFO:tensorflow:loss = 0.30504477, step = 26000 (0.584 sec)\n",
      "INFO:tensorflow:global_step/sec: 186.084\n",
      "INFO:tensorflow:loss = 0.30941644, step = 26100 (0.535 sec)\n",
      "INFO:tensorflow:global_step/sec: 185.135\n",
      "INFO:tensorflow:loss = 0.30183655, step = 26200 (0.539 sec)\n",
      "INFO:tensorflow:global_step/sec: 205.123\n",
      "INFO:tensorflow:loss = 0.30654258, step = 26300 (0.489 sec)\n",
      "INFO:tensorflow:global_step/sec: 159.126\n",
      "INFO:tensorflow:loss = 0.31428158, step = 26400 (0.638 sec)\n",
      "INFO:tensorflow:global_step/sec: 166.786\n",
      "INFO:tensorflow:loss = 0.29899034, step = 26500 (0.590 sec)\n",
      "INFO:tensorflow:global_step/sec: 185.187\n",
      "INFO:tensorflow:loss = 0.30643687, step = 26600 (0.540 sec)\n",
      "INFO:tensorflow:global_step/sec: 181.701\n",
      "INFO:tensorflow:loss = 0.31543845, step = 26700 (0.550 sec)\n",
      "INFO:tensorflow:global_step/sec: 183.705\n",
      "INFO:tensorflow:loss = 0.3031948, step = 26800 (0.544 sec)\n",
      "INFO:tensorflow:global_step/sec: 184.095\n",
      "INFO:tensorflow:loss = 0.3055961, step = 26900 (0.543 sec)\n",
      "INFO:tensorflow:global_step/sec: 187.737\n",
      "INFO:tensorflow:loss = 0.29514512, step = 27000 (0.534 sec)\n",
      "INFO:tensorflow:global_step/sec: 183.2\n",
      "INFO:tensorflow:loss = 0.2926644, step = 27100 (0.545 sec)\n",
      "INFO:tensorflow:global_step/sec: 178.932\n",
      "INFO:tensorflow:loss = 0.295771, step = 27200 (0.558 sec)\n",
      "INFO:tensorflow:global_step/sec: 180.932\n",
      "INFO:tensorflow:loss = 0.29674432, step = 27300 (0.553 sec)\n",
      "INFO:tensorflow:global_step/sec: 183.353\n",
      "INFO:tensorflow:loss = 0.2876889, step = 27400 (0.545 sec)\n",
      "INFO:tensorflow:global_step/sec: 175.613\n",
      "INFO:tensorflow:loss = 0.2935444, step = 27500 (0.569 sec)\n",
      "INFO:tensorflow:global_step/sec: 177.942\n",
      "INFO:tensorflow:loss = 0.28843707, step = 27600 (0.563 sec)\n",
      "INFO:tensorflow:global_step/sec: 165.212\n",
      "INFO:tensorflow:loss = 0.2798822, step = 27700 (0.603 sec)\n",
      "INFO:tensorflow:global_step/sec: 177.558\n",
      "INFO:tensorflow:loss = 0.2886404, step = 27800 (0.563 sec)\n",
      "INFO:tensorflow:global_step/sec: 170.705\n",
      "INFO:tensorflow:loss = 0.26890224, step = 27900 (0.591 sec)\n",
      "INFO:tensorflow:global_step/sec: 162.103\n",
      "INFO:tensorflow:loss = 0.27542275, step = 28000 (0.612 sec)\n",
      "INFO:tensorflow:global_step/sec: 177.031\n",
      "INFO:tensorflow:loss = 0.28447455, step = 28100 (0.568 sec)\n",
      "INFO:tensorflow:global_step/sec: 183.379\n",
      "INFO:tensorflow:loss = 0.28260088, step = 28200 (0.545 sec)\n",
      "INFO:tensorflow:global_step/sec: 181.24\n",
      "INFO:tensorflow:loss = 0.2713144, step = 28300 (0.549 sec)\n",
      "INFO:tensorflow:global_step/sec: 187.256\n",
      "INFO:tensorflow:loss = 0.27138337, step = 28400 (0.534 sec)\n",
      "INFO:tensorflow:global_step/sec: 180.381\n",
      "INFO:tensorflow:loss = 0.27296573, step = 28500 (0.555 sec)\n",
      "INFO:tensorflow:global_step/sec: 186.3\n",
      "INFO:tensorflow:loss = 0.26958638, step = 28600 (0.537 sec)\n",
      "INFO:tensorflow:global_step/sec: 166.545\n",
      "INFO:tensorflow:loss = 0.2679445, step = 28700 (0.603 sec)\n",
      "INFO:tensorflow:global_step/sec: 180.003\n",
      "INFO:tensorflow:loss = 0.2623341, step = 28800 (0.552 sec)\n",
      "INFO:tensorflow:global_step/sec: 183.321\n",
      "INFO:tensorflow:loss = 0.26970237, step = 28900 (0.545 sec)\n",
      "INFO:tensorflow:global_step/sec: 175.342\n",
      "INFO:tensorflow:loss = 0.26610562, step = 29000 (0.573 sec)\n",
      "INFO:tensorflow:global_step/sec: 156.388\n",
      "INFO:tensorflow:loss = 0.26070738, step = 29100 (0.639 sec)\n",
      "INFO:tensorflow:global_step/sec: 174.973\n",
      "INFO:tensorflow:loss = 0.26126194, step = 29200 (0.569 sec)\n",
      "INFO:tensorflow:global_step/sec: 199.063\n",
      "INFO:tensorflow:loss = 0.26290315, step = 29300 (0.503 sec)\n",
      "INFO:tensorflow:global_step/sec: 182.787\n",
      "INFO:tensorflow:loss = 0.263228, step = 29400 (0.549 sec)\n",
      "INFO:tensorflow:global_step/sec: 183.24\n",
      "INFO:tensorflow:loss = 0.26026404, step = 29500 (0.543 sec)\n",
      "INFO:tensorflow:global_step/sec: 182.777\n",
      "INFO:tensorflow:loss = 0.26227194, step = 29600 (0.548 sec)\n",
      "INFO:tensorflow:global_step/sec: 183.271\n",
      "INFO:tensorflow:loss = 0.24837837, step = 29700 (0.545 sec)\n",
      "INFO:tensorflow:global_step/sec: 181.917\n",
      "INFO:tensorflow:loss = 0.2529711, step = 29800 (0.550 sec)\n",
      "INFO:tensorflow:global_step/sec: 181.264\n",
      "INFO:tensorflow:loss = 0.25974646, step = 29900 (0.552 sec)\n",
      "INFO:tensorflow:Calling checkpoint listeners before saving checkpoint 30000...\n",
      "INFO:tensorflow:Saving checkpoints for 30000 into /tmp/tmpd4l7z4_h/model.ckpt.\n",
      "INFO:tensorflow:Calling checkpoint listeners after saving checkpoint 30000...\n",
      "INFO:tensorflow:Loss for final step: 0.25197226.\n",
      "INFO:tensorflow:Calling model_fn.\n",
      "INFO:tensorflow:Done calling model_fn.\n",
      "INFO:tensorflow:Starting evaluation at 2022-01-20T05:33:22\n",
      "INFO:tensorflow:Graph was finalized.\n",
      "INFO:tensorflow:Restoring parameters from /tmp/tmpd4l7z4_h/model.ckpt-30000\n",
      "INFO:tensorflow:Running local_init_op.\n",
      "INFO:tensorflow:Done running local_init_op.\n",
      "INFO:tensorflow:Inference Time : 0.52817s\n",
      "INFO:tensorflow:Finished evaluation at 2022-01-20-05:33:23\n",
      "INFO:tensorflow:Saving dict for global step 30000: accuracy = 0.96666664, average_loss = 0.27484068, global_step = 30000, loss = 0.27484068\n",
      "INFO:tensorflow:Saving 'checkpoint_path' summary for global step 30000: /tmp/tmpd4l7z4_h/model.ckpt-30000\n",
      "===================================================================================================================\n",
      "\n",
      "Test set accuracy : 0.967\n",
      "\n",
      "===================================================================================================================\n"
     ]
    }
   ],
   "source": [
    "classifier.train(input_fn=lambda: input_fn(df_train, y_train, training=True), steps=5000)\n",
    "\n",
    "# eval\n",
    "eval_result = classifier.evaluate(input_fn=lambda: input_fn(df_eval, y_eval, training=False))\n",
    "print('='*115)\n",
    "print('\\nTest set accuracy : {accuracy:0.3f}\\n'.format(**eval_result))\n",
    "print('='*115)"
   ]
  },
  {
   "cell_type": "markdown",
   "metadata": {},
   "source": [
    "###### make prediction"
   ]
  },
  {
   "cell_type": "code",
   "execution_count": 16,
   "metadata": {},
   "outputs": [],
   "source": [
    "def prediction():\n",
    "    def input_fn(features, batch_size=256):\n",
    "        return tf.data.Dataset.from_tensor_slices(dict(features)).batch(batch_size)\n",
    "    \n",
    "    features = ['SepalLength', 'SepalWidth', 'PetalLength', 'PetalWidth']\n",
    "    predict = {}\n",
    "    \n",
    "    print(\"Please type numeric value as prompted:\")\n",
    "    for feature in features:\n",
    "        valid = True\n",
    "        while valid:\n",
    "            val = input(feature + \": \")\n",
    "            if not val.isdigit(): valid = False\n",
    "            \n",
    "        predict[feature] = [float(val)]\n",
    "        \n",
    "    predictions = classifier.predict(input_fn=lambda: input_fn(predict))\n",
    "    for prediction in predictions:\n",
    "        print(prediction)\n",
    "        class_id = prediction['class_ids'][0]\n",
    "        probability = prediction['probabilities'][class_id]\n",
    "        \n",
    "        print('{}\\nPrediction is \"{}\" ({:.1f}%)\\n{}'.format('='*115, SPECIES[class_id], 100 * probability, '='*115))"
   ]
  },
  {
   "cell_type": "code",
   "execution_count": 17,
   "metadata": {},
   "outputs": [
    {
     "name": "stdout",
     "output_type": "stream",
     "text": [
      "Please type numeric value as prompted:\n",
      "SepalLength: 5.\n",
      "SepalWidth: 3.3\n",
      "PetalLength: 1.7\n",
      "PetalWidth: 0.5\n",
      "INFO:tensorflow:Calling model_fn.\n",
      "INFO:tensorflow:Done calling model_fn.\n",
      "INFO:tensorflow:Graph was finalized.\n",
      "INFO:tensorflow:Restoring parameters from /tmp/tmpd4l7z4_h/model.ckpt-30000\n",
      "INFO:tensorflow:Running local_init_op.\n",
      "INFO:tensorflow:Done running local_init_op.\n",
      "{'logits': array([ 4.168376 ,  1.563729 , -3.7009666], dtype=float32), 'probabilities': array([9.3082875e-01, 6.8815455e-02, 3.5584235e-04], dtype=float32), 'class_ids': array([0]), 'classes': array([b'0'], dtype=object), 'all_class_ids': array([0, 1, 2], dtype=int32), 'all_classes': array([b'0', b'1', b'2'], dtype=object)}\n",
      "===================================================================================================================\n",
      "Prediction is \"Setosa\" (93.1%)\n",
      "===================================================================================================================\n"
     ]
    }
   ],
   "source": [
    "prediction()"
   ]
  },
  {
   "cell_type": "code",
   "execution_count": 18,
   "metadata": {},
   "outputs": [
    {
     "name": "stdout",
     "output_type": "stream",
     "text": [
      "Please type numeric value as prompted:\n",
      "SepalLength: 5.9\n",
      "SepalWidth: 3.0\n",
      "PetalLength: 4.2\n",
      "PetalWidth: 1.5\n",
      "INFO:tensorflow:Calling model_fn.\n",
      "INFO:tensorflow:Done calling model_fn.\n",
      "INFO:tensorflow:Graph was finalized.\n",
      "INFO:tensorflow:Restoring parameters from /tmp/tmpd4l7z4_h/model.ckpt-30000\n",
      "INFO:tensorflow:Running local_init_op.\n",
      "INFO:tensorflow:Done running local_init_op.\n",
      "{'logits': array([-0.01247081,  1.6739757 ,  0.17002869], dtype=float32), 'probabilities': array([0.1315708 , 0.71051615, 0.15791306], dtype=float32), 'class_ids': array([1]), 'classes': array([b'1'], dtype=object), 'all_class_ids': array([0, 1, 2], dtype=int32), 'all_classes': array([b'0', b'1', b'2'], dtype=object)}\n",
      "===================================================================================================================\n",
      "Prediction is \"Versicolor\" (71.1%)\n",
      "===================================================================================================================\n"
     ]
    }
   ],
   "source": [
    "prediction()"
   ]
  },
  {
   "cell_type": "code",
   "execution_count": 19,
   "metadata": {},
   "outputs": [
    {
     "name": "stdout",
     "output_type": "stream",
     "text": [
      "Please type numeric value as prompted:\n",
      "SepalLength: 6.9\n",
      "SepalWidth: 3.1\n",
      "PetalLength: 5.4\n",
      "PetalWidth: 2.1\n",
      "INFO:tensorflow:Calling model_fn.\n",
      "INFO:tensorflow:Done calling model_fn.\n",
      "INFO:tensorflow:Graph was finalized.\n",
      "INFO:tensorflow:Restoring parameters from /tmp/tmpd4l7z4_h/model.ckpt-30000\n",
      "INFO:tensorflow:Running local_init_op.\n",
      "INFO:tensorflow:Done running local_init_op.\n",
      "{'logits': array([0.42992818, 0.5216719 , 1.7564777 ], dtype=float32), 'probabilities': array([0.17052905, 0.18691413, 0.6425568 ], dtype=float32), 'class_ids': array([2]), 'classes': array([b'2'], dtype=object), 'all_class_ids': array([0, 1, 2], dtype=int32), 'all_classes': array([b'0', b'1', b'2'], dtype=object)}\n",
      "===================================================================================================================\n",
      "Prediction is \"Virginica\" (64.3%)\n",
      "===================================================================================================================\n"
     ]
    }
   ],
   "source": [
    "prediction()"
   ]
  },
  {
   "cell_type": "code",
   "execution_count": null,
   "metadata": {},
   "outputs": [],
   "source": [
    "#---------------------------------------------\n",
    "#here wehave an test case with espected result\n",
    "#| SPECIES     | SL   SW   PL   PW  |\n",
    "#\"Sotosa\"     => 5.1  3.3  1.7  0.5 \n",
    "#\"Versicolor\" => 5.9  3.0  4.2  1.5\n",
    "#\"Virginica\"  => 6.9  3.1  5.4  2.1\n",
    "#---------------------------------------------"
   ]
  }
 ],
 "metadata": {
  "kernelspec": {
   "display_name": "tensorflow",
   "language": "python",
   "name": "tensorflow"
  },
  "language_info": {
   "codemirror_mode": {
    "name": "ipython",
    "version": 3
   },
   "file_extension": ".py",
   "mimetype": "text/x-python",
   "name": "python",
   "nbconvert_exporter": "python",
   "pygments_lexer": "ipython3",
   "version": "3.9.7"
  }
 },
 "nbformat": 4,
 "nbformat_minor": 4
}
